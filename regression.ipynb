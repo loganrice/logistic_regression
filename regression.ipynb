{
 "cells": [
  {
   "cell_type": "code",
   "execution_count": 1,
   "metadata": {
    "collapsed": false
   },
   "outputs": [
    {
     "name": "stdout",
     "output_type": "stream",
     "text": [
      "Populating the interactive namespace from numpy and matplotlib\n"
     ]
    }
   ],
   "source": [
    "%pylab inline"
   ]
  },
  {
   "cell_type": "code",
   "execution_count": 14,
   "metadata": {
    "collapsed": false
   },
   "outputs": [
    {
     "name": "stdout",
     "output_type": "stream",
     "text": [
      "                            OLS Regression Results                            \n",
      "==============================================================================\n",
      "Dep. Variable:                      y   R-squared:                       0.657\n",
      "Model:                            OLS   Adj. R-squared:                  0.656\n",
      "Method:                 Least Squares   F-statistic:                     2388.\n",
      "Date:                Fri, 04 Dec 2015   Prob (F-statistic):               0.00\n",
      "Time:                        11:12:22   Log-Likelihood:                 5727.6\n",
      "No. Observations:                2500   AIC:                        -1.145e+04\n",
      "Df Residuals:                    2497   BIC:                        -1.143e+04\n",
      "Df Model:                           2                                         \n",
      "Covariance Type:            nonrobust                                         \n",
      "==============================================================================\n",
      "                 coef    std err          t      P>|t|      [95.0% Conf. Int.]\n",
      "------------------------------------------------------------------------------\n",
      "const          0.7288      0.010     73.734      0.000         0.709     0.748\n",
      "x1            -0.0009    1.4e-05    -63.022      0.000        -0.001    -0.001\n",
      "x2          2.107e-06    6.3e-08     33.443      0.000      1.98e-06  2.23e-06\n",
      "==============================================================================\n",
      "Omnibus:                       69.496   Durbin-Watson:                   1.979\n",
      "Prob(Omnibus):                  0.000   Jarque-Bera (JB):               77.811\n",
      "Skew:                           0.379   Prob(JB):                     1.27e-17\n",
      "Kurtosis:                       3.414   Cond. No.                     2.96e+05\n",
      "==============================================================================\n",
      "\n",
      "Warnings:\n",
      "[1] Standard Errors assume that the covariance matrix of the errors is correctly specified.\n",
      "[2] The condition number is large, 2.96e+05. This might indicate that there are\n",
      "strong multicollinearity or other numerical problems.\n",
      "[  7.28827983e-01  -8.84424222e-04   2.10747769e-06]\n"
     ]
    }
   ],
   "source": [
    "import numpy as np\n",
    "import pandas as pd\n",
    "import statsmodels.api as sm\n",
    "\n",
    "loansData = pd.read_csv('https://spark-public.s3.amazonaws.com/dataanalysis/loansData.csv')\n",
    "ficoScores = loansData['FICO.Range'].map(lambda scores: scores.split(\"-\"))\n",
    "ficoScores = ficoScores.map(lambda scores: [int(score) for score in scores])\n",
    "ficoScores = ficoScores.map(lambda scores: scores[0])\n",
    "loansData['FICO.Score'] = ficoScores    \n",
    "loanLength = loansData['Loan.Length'] \n",
    "loanLength = loanLength.map(lambda length: length.rstrip(\" months\"))\n",
    "loanLength = loanLength.map(lambda length: int(length))\n",
    "loansData['Loan.Length'] = loanLength           \n",
    "interestRates = loansData['Interest.Rate'] \n",
    "interestRates = interestRates.map(lambda rate: rate.rstrip(\"%\"))\n",
    "interestRates = interestRates.map(lambda rate: float(rate) / 100)  \n",
    "loansData['Interest.Rate'] = interestRates \n",
    "loanAmount = loansData['Amount.Requested']    \n",
    "y = np.matrix(interestRates).transpose()  \n",
    "x1 = np.matrix(ficoScores).transpose()\n",
    "x2 = np.matrix(loanAmount).transpose()\n",
    "x = np.column_stack([x1,x2])  \n",
    "\n",
    "X = sm.add_constant(x)  \n",
    "\n",
    "model = sm.OLS(y,X)  \n",
    "f = model.fit() \n",
    "print f.summary()\n",
    "\n",
    "print f.params"
   ]
  },
  {
   "cell_type": "markdown",
   "metadata": {
    "collapsed": true
   },
   "source": [
    "* Take Fico Score 735 and Loan Amount 20000 and mash them together [[ 735 20000 ]] with the column stack method\n",
    "* Then add a constant [ 1 7.35 2]"
   ]
  }
 ],
 "metadata": {
  "kernelspec": {
   "display_name": "Python 2",
   "language": "python",
   "name": "python2"
  },
  "language_info": {
   "codemirror_mode": {
    "name": "ipython",
    "version": 2
   },
   "file_extension": ".py",
   "mimetype": "text/x-python",
   "name": "python",
   "nbconvert_exporter": "python",
   "pygments_lexer": "ipython2",
   "version": "2.7.10"
  }
 },
 "nbformat": 4,
 "nbformat_minor": 0
}
